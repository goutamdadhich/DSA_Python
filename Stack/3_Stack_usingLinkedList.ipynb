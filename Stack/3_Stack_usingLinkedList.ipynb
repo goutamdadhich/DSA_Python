{
 "cells": [
  {
   "cell_type": "code",
   "execution_count": 1,
   "metadata": {},
   "outputs": [],
   "source": [
    "''' -------------------------------\n",
    "            \n",
    "      Creating Node Object\n",
    "      \n",
    "    ------------------------------- '''\n",
    "class Node:\n",
    "    # constructor \n",
    "    def __init__(self, data):\n",
    "        self.data = data\n",
    "        self.next = None\n",
    "    # Setting data\n",
    "    def setData(self, data):\n",
    "        self.data = data\n",
    "    # Gettong data\n",
    "    def getData(self):\n",
    "        return self.data\n",
    "    # setting next\n",
    "    def setNext(self, next):\n",
    "        self.next = next\n",
    "    # getting next\n",
    "    def getNext(self):\n",
    "        return self.next\n",
    "    # returb true if the node points to next node\n",
    "    def hasNext(self):\n",
    "        return self.next != None"
   ]
  },
  {
   "cell_type": "code",
   "execution_count": 2,
   "metadata": {},
   "outputs": [],
   "source": [
    "''' -------------------------------\n",
    "            \n",
    "      Creating Linked List Object\n",
    "      \n",
    "    ------------------------------- '''\n",
    "class LinkedList():\n",
    "    # Constructor\n",
    "    def __init__(self):\n",
    "        self.head = None\n",
    "        \n",
    "    ''' -------------- Traversing Linked List -------------- '''\n",
    "        \n",
    "    # printing list elements\n",
    "    def printList(self):\n",
    "        ll = []\n",
    "        current = self.head\n",
    "        while current :\n",
    "            ll.append(current.data)\n",
    "            current = current.next\n",
    "        print(ll)\n",
    "        \n",
    "    # finding length of linked list\n",
    "    def listLength(self):\n",
    "        count = 0 \n",
    "        current = self.head\n",
    "        while current :\n",
    "            count += 1\n",
    "            current = current.next\n",
    "        return count\n",
    "    \n",
    "    \n",
    "    ''' -------------- Insertions in Linked List -------------- '''\n",
    "    \n",
    "    # insert at beginning \n",
    "    def insertAtBegining(self, data):\n",
    "        newNode = Node(data)\n",
    "        \n",
    "        newNode.next = self.head\n",
    "        self.head = newNode      \n",
    "        \n",
    "    # insert at end\n",
    "    def insertAtEnd(self, data):\n",
    "        newNode = Node(data)\n",
    "        current = self.head\n",
    "        while current.next :\n",
    "            current = current.next\n",
    "        current.next = newNode\n",
    "        \n",
    "    # insert after specific data point\n",
    "    def insertAtPosition(self, pos, data):\n",
    "        if pos == 0 or pos == 1:\n",
    "            self.insertAtBegining(data)\n",
    "        else :\n",
    "            newNode = Node(data)\n",
    "            current = self.head\n",
    "            count = 1\n",
    "            while count < pos-1:\n",
    "                count += 1\n",
    "                current = current.next\n",
    "            newNode.next = current.next\n",
    "            current.next = newNode\n",
    "            \n",
    "    ''' -------------- Deletions in Linked List -------------- '''\n",
    "    \n",
    "    #deleting first node\n",
    "    def deleteFirstNode(self):\n",
    "        if self.listLength() == 0:\n",
    "            print('The list is empty !!!')\n",
    "        else :\n",
    "            temp = self.head\n",
    "            self.head = self.head.next\n",
    "            temp.next = None\n",
    "            # Also directly can be written without using temp as follows :\n",
    "            # self.head = self.head.next\n",
    "            # But \n",
    "            # In this condition the previous link is not removed\n",
    "            \n",
    "    # deleting last node\n",
    "    def deleteLastNode(self):\n",
    "        if self.listLength() == 0:\n",
    "            print('The list is empty !!!')\n",
    "        else :\n",
    "            current = self.head\n",
    "            previous = self.head\n",
    "            while current.next :\n",
    "                previous = current\n",
    "                current = current.next\n",
    "            previous.next = None\n",
    "            \n",
    "    # deleting intermediate node at particular position \n",
    "    def deleteAtPosition(self, pos):\n",
    "        if pos<0 or pos>self.listLength():\n",
    "            print('Position does not exists !!!')\n",
    "        else :\n",
    "            count = 0\n",
    "            current = self.head\n",
    "            previous = self.head\n",
    "            while current.next or count<pos :\n",
    "                count += 1\n",
    "                if count == pos :\n",
    "                    previous.next = current.next\n",
    "                    current.next = None\n",
    "                    return\n",
    "                else :\n",
    "                    previous = current\n",
    "                    current = current.next\n",
    "                    \n",
    "    # deleting element by specific value\n",
    "    def deleteByElement(self, value):\n",
    "        current = self.head\n",
    "        previous = self.head\n",
    "        while current.next or current.data != value:\n",
    "            if current.data == value :\n",
    "                previous.next = current.next\n",
    "                current.next = None\n",
    "            else :\n",
    "                previous = current\n",
    "                current = current.next\n",
    "                \n",
    "    # Deleting singly linked list\n",
    "    def clear(self):\n",
    "        self.head = None\n",
    "        \n",
    "    ''' -------------- Print Linked List in reverse order -------------- '''\n",
    "    \n",
    "    def printInReverseOrder(self, head):\n",
    "        current = head\n",
    "        if current == None:\n",
    "            return\n",
    "        else:\n",
    "            self.printInReverseOrder(current.next)\n",
    "            print(current.data)\n",
    "            \n",
    "    ''' -------------- Reverse the Linked List -------------- '''\n",
    "    \n",
    "    def reverseList(self):\n",
    "        current = self.head\n",
    "        previous = None\n",
    "        while current :\n",
    "            nextNode = current.next\n",
    "            current.next = previous\n",
    "            previous = current\n",
    "            current = nextNode\n",
    "        self.head = previous\n"
   ]
  },
  {
   "cell_type": "code",
   "execution_count": 24,
   "metadata": {},
   "outputs": [],
   "source": [
    "class Stack:\n",
    "    def __init__(self):\n",
    "        self.l_list = LinkedList()\n",
    "        \n",
    "    def isEmpty(self):\n",
    "        return self.l_list.listLength() <= 0\n",
    "    \n",
    "    def size(self):\n",
    "        return self.l_list.listLength()\n",
    "    \n",
    "    def push(self, elem):\n",
    "        self.l_list.insertAtBegining(elem)\n",
    "        print('Stack after push :-', self.l_list.printList())\n",
    "        \n",
    "    def pop(self):\n",
    "        if self.size() <= 0:\n",
    "            print('Stack is underflow.')\n",
    "            return None\n",
    "        return self.l_list.deleteFirstNode()\n",
    "    "
   ]
  },
  {
   "cell_type": "code",
   "execution_count": 25,
   "metadata": {},
   "outputs": [],
   "source": [
    "st = Stack()"
   ]
  },
  {
   "cell_type": "code",
   "execution_count": 26,
   "metadata": {},
   "outputs": [
    {
     "data": {
      "text/plain": [
       "True"
      ]
     },
     "execution_count": 26,
     "metadata": {},
     "output_type": "execute_result"
    }
   ],
   "source": [
    "st.isEmpty()"
   ]
  },
  {
   "cell_type": "code",
   "execution_count": 27,
   "metadata": {},
   "outputs": [
    {
     "name": "stdout",
     "output_type": "stream",
     "text": [
      "[10]\n",
      "Stack after push :- None\n"
     ]
    }
   ],
   "source": [
    "st.push(10)"
   ]
  },
  {
   "cell_type": "code",
   "execution_count": 28,
   "metadata": {},
   "outputs": [
    {
     "name": "stdout",
     "output_type": "stream",
     "text": [
      "[20, 10]\n",
      "Stack after push :- None\n"
     ]
    }
   ],
   "source": [
    "st.push(20)"
   ]
  },
  {
   "cell_type": "code",
   "execution_count": 29,
   "metadata": {},
   "outputs": [
    {
     "name": "stdout",
     "output_type": "stream",
     "text": [
      "[50, 20, 10]\n",
      "Stack after push :- None\n"
     ]
    }
   ],
   "source": [
    "st.push(50)"
   ]
  },
  {
   "cell_type": "code",
   "execution_count": 30,
   "metadata": {},
   "outputs": [],
   "source": [
    "st.pop()"
   ]
  },
  {
   "cell_type": "code",
   "execution_count": 31,
   "metadata": {},
   "outputs": [
    {
     "data": {
      "text/plain": [
       "2"
      ]
     },
     "execution_count": 31,
     "metadata": {},
     "output_type": "execute_result"
    }
   ],
   "source": [
    "st.size()"
   ]
  },
  {
   "cell_type": "code",
   "execution_count": null,
   "metadata": {},
   "outputs": [],
   "source": []
  }
 ],
 "metadata": {
  "kernelspec": {
   "display_name": "Python 3",
   "language": "python",
   "name": "python3"
  },
  "language_info": {
   "codemirror_mode": {
    "name": "ipython",
    "version": 3
   },
   "file_extension": ".py",
   "mimetype": "text/x-python",
   "name": "python",
   "nbconvert_exporter": "python",
   "pygments_lexer": "ipython3",
   "version": "3.7.5"
  }
 },
 "nbformat": 4,
 "nbformat_minor": 2
}
