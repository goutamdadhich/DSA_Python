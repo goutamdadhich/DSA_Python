{
 "cells": [
  {
   "cell_type": "markdown",
   "metadata": {},
   "source": [
    "# Binary Tree"
   ]
  },
  {
   "cell_type": "code",
   "execution_count": 1,
   "metadata": {},
   "outputs": [],
   "source": [
    "class Node:\n",
    "    def __init__(self, data):\n",
    "        self.data = data\n",
    "        self.right = None\n",
    "        self.left = None"
   ]
  },
  {
   "cell_type": "code",
   "execution_count": 2,
   "metadata": {},
   "outputs": [],
   "source": [
    "class Queue:\n",
    "    def __init__(self):\n",
    "        self.items = []\n",
    "        \n",
    "    def enqueue(self, item):\n",
    "        self.items.insert(0, item)\n",
    "        \n",
    "    def dequeue(self):\n",
    "        if not self.isEmpty() :\n",
    "            return self.items.pop()\n",
    "        \n",
    "    def isEmpty(self):\n",
    "        return len(self.items) == 0\n",
    "    \n",
    "    def peek(self):\n",
    "        if not self.isEmpty():\n",
    "            return self.items[-1]\n",
    "    \n",
    "    def __len__(self):\n",
    "        return self.size()\n",
    "    \n",
    "    def size(self):\n",
    "        return len(self.items)"
   ]
  },
  {
   "cell_type": "code",
   "execution_count": 3,
   "metadata": {},
   "outputs": [],
   "source": [
    "class  BinaryTree:\n",
    "    def __init__(self, root):\n",
    "        self.root = Node(root)  \n",
    "        \n",
    "    def printTree(self, traversal_type):\n",
    "        if traversal_type == 'preorder':\n",
    "            return self.preorderRecursive(tree.root, 'Preorder Tree Traversal  : ')\n",
    "        elif traversal_type == 'inorder':\n",
    "            return self.inorderRecursive(tree.root, 'Inorder Tree Traversal   : ')\n",
    "        elif traversal_type == 'postorder':\n",
    "            return self.postorderRecursive(tree.root, 'Postorder Tree Traversal : ')\n",
    "        elif traversal_type == 'levelorder':\n",
    "            return self.levelOrder(tree.root)\n",
    "        else :\n",
    "            print(traversal_type + 'is not supported')\n",
    "            return False\n",
    "        \n",
    "    def preorderRecursive(self, start, result):\n",
    "        # Root --> Left --> Right\n",
    "        if start :\n",
    "            result += (str(start.data) + '-')\n",
    "            result = self.preorderRecursive(start.left, result)\n",
    "            result = self.preorderRecursive(start.right, result)\n",
    "        return result\n",
    "    \n",
    "    def inorderRecursive(self, start, result):\n",
    "        # Left --> Root --> Right\n",
    "        if start :\n",
    "            result = self.inorderRecursive(start.left, result)\n",
    "            result += (str(start.data)+'-')\n",
    "            result = self.inorderRecursive(start.right, result)\n",
    "        return result\n",
    "    \n",
    "    def postorderRecursive(self, start, result):\n",
    "        # Left --> Right --> Root\n",
    "        if start :\n",
    "            result = self.postorderRecursive(start.left, result)\n",
    "            result = self.postorderRecursive(start.right, result)\n",
    "            result += (str(start.data)+'-')\n",
    "        return result\n",
    "    \n",
    "    def levelOrder(self, start):\n",
    "        if start is None:\n",
    "            return\n",
    "        \n",
    "        queue = Queue()\n",
    "        queue.enqueue(start)\n",
    "        \n",
    "        traversal = ''\n",
    "        while len(queue)>0:\n",
    "            traversal += str(queue.peek().data)+'-'\n",
    "            node = queue.dequeue()\n",
    "            \n",
    "            if node.left :\n",
    "                queue.enqueue(node.left)\n",
    "            if node.right :\n",
    "                queue.enqueue(node.right)\n",
    "                \n",
    "        return traversal\n",
    "    \n",
    "    def topView(self, start):\n",
    "        if start is None:\n",
    "            return\n",
    "        \n",
    "        l = []\n",
    "        l.append(start)\n",
    "        while len(l)>0:\n",
    "            if len(l) == 1:\n",
    "                print(l[0])\n",
    "                \n",
    "            \n",
    "            "
   ]
  },
  {
   "cell_type": "code",
   "execution_count": 4,
   "metadata": {},
   "outputs": [],
   "source": [
    "# Set up tree :\n",
    "tree = BinaryTree(1)\n",
    "tree.root.left = Node(2)\n",
    "tree.root.right = Node(3)\n",
    "tree.root.left.left = Node(4)\n",
    "tree.root.left.right = Node(5)\n",
    "tree.root.right.left = Node(6)\n",
    "tree.root.right.right = Node(7)\n"
   ]
  },
  {
   "cell_type": "markdown",
   "metadata": {},
   "source": [
    "\n",
    "            root \n",
    "             1\n",
    "          /     \\\n",
    "         2       3\n",
    "       /  \\     /  \\\n",
    "      4    5   6    7\n"
   ]
  },
  {
   "cell_type": "code",
   "execution_count": 5,
   "metadata": {},
   "outputs": [
    {
     "name": "stdout",
     "output_type": "stream",
     "text": [
      "Preorder Tree Traversal  : 1-2-4-5-3-6-7-\n",
      "Inorder Tree Traversal   : 4-2-5-1-6-3-7-\n",
      "Postorder Tree Traversal : 4-5-2-6-7-3-1-\n",
      "1-2-3-4-5-6-7-\n"
     ]
    }
   ],
   "source": [
    "print(tree.printTree('preorder'))\n",
    "print(tree.printTree('inorder'))\n",
    "print(tree.printTree('postorder'))\n",
    "print(tree.printTree('levelorder'))"
   ]
  },
  {
   "cell_type": "code",
   "execution_count": 6,
   "metadata": {},
   "outputs": [],
   "source": [
    "q = Queue()"
   ]
  },
  {
   "cell_type": "code",
   "execution_count": 7,
   "metadata": {},
   "outputs": [],
   "source": [
    "q.enqueue(1)\n",
    "q.enqueue(2)\n",
    "q.enqueue(3)\n",
    "q.enqueue(4)\n",
    "q.enqueue(5)"
   ]
  }
 ],
 "metadata": {
  "kernelspec": {
   "display_name": "Python 3",
   "language": "python",
   "name": "python3"
  },
  "language_info": {
   "codemirror_mode": {
    "name": "ipython",
    "version": 3
   },
   "file_extension": ".py",
   "mimetype": "text/x-python",
   "name": "python",
   "nbconvert_exporter": "python",
   "pygments_lexer": "ipython3",
   "version": "3.7.5"
  }
 },
 "nbformat": 4,
 "nbformat_minor": 2
}
