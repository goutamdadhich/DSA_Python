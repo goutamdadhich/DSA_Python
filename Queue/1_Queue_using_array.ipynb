{
 "cells": [
  {
   "cell_type": "markdown",
   "metadata": {},
   "source": [
    "## Queue ADT\n",
    "\n",
    "Creating a queue using an array in a **circular fashion** ."
   ]
  },
  {
   "cell_type": "markdown",
   "metadata": {},
   "source": [
    "#### First Approach "
   ]
  },
  {
   "cell_type": "code",
   "execution_count": 3,
   "metadata": {},
   "outputs": [],
   "source": [
    "class Queue:\n",
    "    def __init__(self, limit = 10):\n",
    "        self.que = limit*[None]\n",
    "        self.limit = limit\n",
    "        self.front = 0\n",
    "        self.rear = 0\n",
    "        \n",
    "    def size(self):\n",
    "        return (self.limit - self.front + self.rear)%self.limit\n",
    "    \n",
    "    def isEmpty(self):\n",
    "        return (self.front == self.rear)\n",
    "    \n",
    "    def front(self):\n",
    "        if self.isEmpty():\n",
    "            print('Queue is empty.')\n",
    "            return None\n",
    "        return self.que[self.front]\n",
    "    \n",
    "    def enQueue(self, elem):\n",
    "        if self.size() == self.limit-1:\n",
    "            print(\"Queue is full.\")\n",
    "            \n",
    "        else:\n",
    "            self.que[self.rear] = elem\n",
    "            self.rear = (self.rear+1)%self.limit\n",
    "            \n",
    "        print('Queue after enQueue:-', self.que)\n",
    "            \n",
    "    def deQueue(self):\n",
    "        if self.isEmpty():\n",
    "            print('Queue is empty.')\n",
    "            \n",
    "        else:\n",
    "            self.que[self.front] =  None\n",
    "            self.front = (self.front+1)%self.limit\n",
    "            "
   ]
  },
  {
   "cell_type": "code",
   "execution_count": 4,
   "metadata": {},
   "outputs": [],
   "source": [
    "queue = Queue(5)"
   ]
  },
  {
   "cell_type": "code",
   "execution_count": 5,
   "metadata": {},
   "outputs": [
    {
     "data": {
      "text/plain": [
       "0"
      ]
     },
     "execution_count": 5,
     "metadata": {},
     "output_type": "execute_result"
    }
   ],
   "source": [
    "queue.size()"
   ]
  },
  {
   "cell_type": "code",
   "execution_count": 6,
   "metadata": {},
   "outputs": [
    {
     "data": {
      "text/plain": [
       "True"
      ]
     },
     "execution_count": 6,
     "metadata": {},
     "output_type": "execute_result"
    }
   ],
   "source": [
    "queue.isEmpty()"
   ]
  },
  {
   "cell_type": "code",
   "execution_count": 7,
   "metadata": {},
   "outputs": [
    {
     "name": "stdout",
     "output_type": "stream",
     "text": [
      "Queue after enQueue:- [10, None, None, None, None]\n"
     ]
    }
   ],
   "source": [
    "queue.enQueue(10)"
   ]
  },
  {
   "cell_type": "code",
   "execution_count": 8,
   "metadata": {},
   "outputs": [
    {
     "name": "stdout",
     "output_type": "stream",
     "text": [
      "Queue after enQueue:- [10, 20, None, None, None]\n",
      "Queue after enQueue:- [10, 20, 30, None, None]\n",
      "Queue after enQueue:- [10, 20, 30, 40, None]\n",
      "Queue is full.\n",
      "Queue after enQueue:- [10, 20, 30, 40, None]\n"
     ]
    }
   ],
   "source": [
    "queue.enQueue(20)\n",
    "queue.enQueue(30)\n",
    "queue.enQueue(40)\n",
    "queue.enQueue(50)"
   ]
  },
  {
   "cell_type": "code",
   "execution_count": 9,
   "metadata": {},
   "outputs": [],
   "source": [
    "queue.deQueue()"
   ]
  },
  {
   "cell_type": "code",
   "execution_count": 10,
   "metadata": {},
   "outputs": [
    {
     "name": "stdout",
     "output_type": "stream",
     "text": [
      "Queue after enQueue:- [None, 20, 30, 40, 50]\n"
     ]
    }
   ],
   "source": [
    "queue.enQueue(50)"
   ]
  },
  {
   "cell_type": "code",
   "execution_count": 13,
   "metadata": {},
   "outputs": [],
   "source": [
    "queue.deQueue()"
   ]
  },
  {
   "cell_type": "code",
   "execution_count": 14,
   "metadata": {},
   "outputs": [
    {
     "name": "stdout",
     "output_type": "stream",
     "text": [
      "Queue after enQueue:- [60, None, 30, 40, 50]\n"
     ]
    }
   ],
   "source": [
    "queue.enQueue(60)"
   ]
  },
  {
   "cell_type": "code",
   "execution_count": null,
   "metadata": {},
   "outputs": [],
   "source": []
  }
 ],
 "metadata": {
  "kernelspec": {
   "display_name": "Python 3",
   "language": "python",
   "name": "python3"
  },
  "language_info": {
   "codemirror_mode": {
    "name": "ipython",
    "version": 3
   },
   "file_extension": ".py",
   "mimetype": "text/x-python",
   "name": "python",
   "nbconvert_exporter": "python",
   "pygments_lexer": "ipython3",
   "version": "3.7.5"
  }
 },
 "nbformat": 4,
 "nbformat_minor": 2
}
