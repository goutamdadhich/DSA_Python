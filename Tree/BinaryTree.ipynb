{
 "cells": [
  {
   "cell_type": "markdown",
   "metadata": {},
   "source": [
    "# Binary Tree"
   ]
  },
  {
   "cell_type": "code",
   "execution_count": 1,
   "metadata": {},
   "outputs": [],
   "source": [
    "class Node:\n",
    "    def __init__(self, data):\n",
    "        self.data = data\n",
    "        self.right = None\n",
    "        self.left = None"
   ]
  },
  {
   "cell_type": "code",
   "execution_count": 2,
   "metadata": {},
   "outputs": [],
   "source": [
    "class  BinaryTree:\n",
    "    def __init__(self, root):\n",
    "        self.root = Node(root)  \n",
    "        \n",
    "    def printTree(self, traversal_type):\n",
    "        if traversal_type == 'preorder':\n",
    "            return self.preorderRecursive(tree.root, '')\n",
    "        \n",
    "    ''' Root --> Left --> Right '''\n",
    "    def preorderRecursive(self, start, result):\n",
    "        if start :\n",
    "            result += (str(start.data) + '-')\n",
    "            result = self.preorderRecursive(start.left, result)\n",
    "            result = self.preorderRecursive(start.right, result)\n",
    "        return result\n",
    "    \n",
    "    def inorderRecursive(self, start, result):\n",
    "        # Left --> Root --> Right\n",
    "        if start :\n",
    "            result = self.inorderRecursive(start.left, result)\n",
    "            result += (str(start.data)+'-')\n",
    "            result = self.inorderRecursive(start.right, result)\n",
    "        return result\n",
    "    \n",
    "    def postorderRecursive(self, start, result):\n",
    "        # Left --> Right --> Root\n",
    "        if start :\n",
    "            result = self.postorderRecursive(start.left, result)\n",
    "            result = self.postorderRecursive(start.right, result)\n",
    "            result += (str(start.data)+'-')\n",
    "        return result"
   ]
  },
  {
   "cell_type": "code",
   "execution_count": 3,
   "metadata": {},
   "outputs": [],
   "source": [
    "# Set up tree :\n",
    "tree = BinaryTree(1)\n",
    "tree.root.left = Node(2)\n",
    "tree.root.right = Node(3)\n",
    "tree.root.left.left = Node(4)\n",
    "tree.root.left.right = Node(5)\n",
    "tree.root.right.left = Node(6)\n",
    "tree.root.right.right = Node(7)\n"
   ]
  },
  {
   "cell_type": "markdown",
   "metadata": {},
   "source": [
    "\n",
    "            root \n",
    "             1\n",
    "          /     \\\n",
    "         2       3\n",
    "       /  \\     /  \\\n",
    "      4    5   6    7\n"
   ]
  },
  {
   "cell_type": "code",
   "execution_count": 4,
   "metadata": {},
   "outputs": [
    {
     "name": "stdout",
     "output_type": "stream",
     "text": [
      "1-2-4-5-3-6-7-\n"
     ]
    }
   ],
   "source": [
    "print(tree.printTree('preorder'))"
   ]
  },
  {
   "cell_type": "code",
   "execution_count": null,
   "metadata": {},
   "outputs": [],
   "source": []
  }
 ],
 "metadata": {
  "kernelspec": {
   "display_name": "Python 3",
   "language": "python",
   "name": "python3"
  },
  "language_info": {
   "codemirror_mode": {
    "name": "ipython",
    "version": 3
   },
   "file_extension": ".py",
   "mimetype": "text/x-python",
   "name": "python",
   "nbconvert_exporter": "python",
   "pygments_lexer": "ipython3",
   "version": "3.7.5"
  }
 },
 "nbformat": 4,
 "nbformat_minor": 2
}
