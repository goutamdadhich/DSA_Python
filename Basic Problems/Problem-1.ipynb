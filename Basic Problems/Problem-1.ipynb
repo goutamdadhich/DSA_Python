{
 "cells": [
  {
   "cell_type": "markdown",
   "metadata": {},
   "source": [
    "## Arm Strong Number"
   ]
  },
  {
   "cell_type": "markdown",
   "metadata": {},
   "source": [
    "Sum of cubes of all the digis of a number is equal to num."
   ]
  },
  {
   "cell_type": "code",
   "execution_count": 1,
   "metadata": {},
   "outputs": [
    {
     "name": "stdout",
     "output_type": "stream",
     "text": [
      "Enter your number:- 153\n",
      "Number is arm strong.\n"
     ]
    }
   ],
   "source": [
    "def isArmStong(num):\n",
    "    temp = 0\n",
    "    num_len = len(num)\n",
    "    for i in num:\n",
    "        temp += int(i)**num_len\n",
    "\n",
    "    if num == '0':\n",
    "        print('Not an arm strong number.')\n",
    "    elif str(temp) == num:\n",
    "        print('Number is arm strong.')\n",
    "    else:\n",
    "        print('Not an arm strong number.')\n",
    "        \n",
    "\n",
    "num = input('Enter your number:- ')\n",
    "isArmStong(num) "
   ]
  },
  {
   "cell_type": "markdown",
   "metadata": {},
   "source": [
    "## Fibonacci Series' Nth Element Printig"
   ]
  },
  {
   "cell_type": "code",
   "execution_count": 2,
   "metadata": {},
   "outputs": [
    {
     "name": "stdout",
     "output_type": "stream",
     "text": [
      "Enter of number:- 5\n",
      "5\n"
     ]
    }
   ],
   "source": [
    "def fib(num):\n",
    "    a, b = 0, 1\n",
    "    for i in range(num-1):\n",
    "        a, b = b, a+b\n",
    "    return b\n",
    "\n",
    "term = int(input('Enter of number:- '))\n",
    "print(fib(term))"
   ]
  },
  {
   "cell_type": "markdown",
   "metadata": {},
   "source": [
    "## Palindrome"
   ]
  },
  {
   "cell_type": "code",
   "execution_count": 3,
   "metadata": {},
   "outputs": [
    {
     "name": "stdout",
     "output_type": "stream",
     "text": [
      "Enter your sequence:- 5445\n",
      "Is Palindrome.\n"
     ]
    }
   ],
   "source": [
    "def isPalindrome(s):\n",
    "    return s==s[::-1]\n",
    "\n",
    "inp = input('Enter your sequence:- ')\n",
    "out = isPalindrome(inp)\n",
    "if out:\n",
    "    print('Is Palindrome.')\n",
    "else:\n",
    "    print('Not a Palindrome.')"
   ]
  },
  {
   "cell_type": "markdown",
   "metadata": {},
   "source": [
    "## Swaping"
   ]
  },
  {
   "cell_type": "code",
   "execution_count": 4,
   "metadata": {},
   "outputs": [
    {
     "name": "stdout",
     "output_type": "stream",
     "text": [
      "2 3\n",
      "a = 2, b = 3\n",
      "a = 3, b = 2\n"
     ]
    }
   ],
   "source": [
    "a, b = map(int, input().split())\n",
    "print('a = %d, b = %d'%(a,b))\n",
    "a, b = b, a\n",
    "print('a = %d, b = %d'%(a,b))"
   ]
  },
  {
   "cell_type": "markdown",
   "metadata": {},
   "source": [
    "## Prime Factors"
   ]
  },
  {
   "cell_type": "code",
   "execution_count": 5,
   "metadata": {},
   "outputs": [
    {
     "name": "stdout",
     "output_type": "stream",
     "text": [
      "40\n",
      "[2, 5]\n"
     ]
    }
   ],
   "source": [
    "def isPrime(num):\n",
    "    count = 0\n",
    "    for i in range(2, int(num**0.5)+1):\n",
    "        if num%i == 0:\n",
    "            count += 1\n",
    "    return count == 0\n",
    "\n",
    "def primeFactors(num):\n",
    "    l = []\n",
    "    if isPrime(num):\n",
    "        l.append(num)\n",
    "    for i in range(2, int(num**0.5)+1):\n",
    "        if num%i==0:\n",
    "            if isPrime(i):\n",
    "                l.append(i)\n",
    "    return l\n",
    "\n",
    "num = int(input())\n",
    "print(primeFactors(num))"
   ]
  },
  {
   "cell_type": "markdown",
   "metadata": {},
   "source": [
    "## LCM & HCF(GCD)"
   ]
  },
  {
   "cell_type": "code",
   "execution_count": 6,
   "metadata": {},
   "outputs": [
    {
     "name": "stdout",
     "output_type": "stream",
     "text": [
      "15\n"
     ]
    }
   ],
   "source": [
    "def lcm_normal(a, b):\n",
    "    min_num = min(a, b)\n",
    "    max_num = max(a, b)\n",
    "    i = max_num\n",
    "    while 1:\n",
    "        if i%min_num == 0:\n",
    "            return i\n",
    "        \n",
    "        i += max_num\n",
    "        \n",
    "print(lcm_normal(5, 3))"
   ]
  },
  {
   "cell_type": "code",
   "execution_count": 7,
   "metadata": {},
   "outputs": [
    {
     "name": "stdout",
     "output_type": "stream",
     "text": [
      "2\n"
     ]
    }
   ],
   "source": [
    "def hcf_normal(a, b):\n",
    "    if a<b:\n",
    "        min_num = a\n",
    "    else:\n",
    "        min_num = b\n",
    "        \n",
    "    for i in range(1, min_num+1):\n",
    "        if a%i==0 and b%i==0:\n",
    "            hcf = i\n",
    "    return hcf\n",
    "\n",
    "print(hcf_normal(6,2))"
   ]
  },
  {
   "cell_type": "code",
   "execution_count": 8,
   "metadata": {},
   "outputs": [],
   "source": [
    "def lcm_of_a_list(array):#will work for an int array of any length\n",
    "    lcm = array[0]\n",
    "    for i in array[1:]:\n",
    "        lcm = lcm*i/gcd(lcm, i)\n",
    "    return int(lcm)"
   ]
  },
  {
   "cell_type": "code",
   "execution_count": 9,
   "metadata": {},
   "outputs": [
    {
     "name": "stdout",
     "output_type": "stream",
     "text": [
      "2\n"
     ]
    }
   ],
   "source": [
    "def hcf_ecludian(a, b):\n",
    "    if a==0:\n",
    "        return b\n",
    "    return hcf_ecludian(b%a, a)\n",
    "print(hcf_ecludian(2,6))"
   ]
  },
  {
   "cell_type": "code",
   "execution_count": null,
   "metadata": {},
   "outputs": [],
   "source": []
  }
 ],
 "metadata": {
  "kernelspec": {
   "display_name": "Python 3",
   "language": "python",
   "name": "python3"
  },
  "language_info": {
   "codemirror_mode": {
    "name": "ipython",
    "version": 3
   },
   "file_extension": ".py",
   "mimetype": "text/x-python",
   "name": "python",
   "nbconvert_exporter": "python",
   "pygments_lexer": "ipython3",
   "version": "3.7.5"
  }
 },
 "nbformat": 4,
 "nbformat_minor": 2
}
