{
 "cells": [
  {
   "cell_type": "markdown",
   "metadata": {},
   "source": [
    "**Example :-** Sorting of cards whiile playing.\n",
    "\n",
    "**Strategy :-**\n",
    "* Start with empty handed\n",
    "* Insert a card in the right position of already sorted hand\n",
    "* Continue till all cards are sorted"
   ]
  },
  {
   "cell_type": "code",
   "execution_count": 1,
   "metadata": {},
   "outputs": [
    {
     "name": "stdout",
     "output_type": "stream",
     "text": [
      "Enter space seprated values :- 1 5 6 8 7 2 4 3 9\n"
     ]
    },
    {
     "data": {
      "text/plain": [
       "[1, 5, 6, 8, 7, 2, 4, 3, 9]"
      ]
     },
     "execution_count": 1,
     "metadata": {},
     "output_type": "execute_result"
    }
   ],
   "source": [
    "arr = input(\"Enter space seprated values :- \")\n",
    "arr = list(map(int,  arr.split()))\n",
    "arr"
   ]
  },
  {
   "cell_type": "code",
   "execution_count": 2,
   "metadata": {},
   "outputs": [],
   "source": [
    "def insertionSort(arr):\n",
    "    n = len(arr)\n",
    "    for j in range(1, n):\n",
    "        key = arr[j]\n",
    "        \n",
    "        i = j-1\n",
    "        while i>0 and arr[i]>key:\n",
    "            arr[i+1] = arr[i]\n",
    "            i -= 1\n",
    "        arr[i+1] = key\n",
    "        \n",
    "    return arr"
   ]
  },
  {
   "cell_type": "code",
   "execution_count": 3,
   "metadata": {},
   "outputs": [
    {
     "name": "stdout",
     "output_type": "stream",
     "text": [
      "Array before sorting :- \n",
      "[1, 5, 6, 8, 7, 2, 4, 3, 9]\n",
      "------*****------\n",
      "Array after sorting :- \n",
      "[1, 2, 3, 4, 5, 6, 7, 8, 9]\n"
     ]
    }
   ],
   "source": [
    "print('Array before sorting :- ')\n",
    "print(arr)\n",
    "print('------*****------')\n",
    "print('Array after sorting :- ')\n",
    "print(insertionSort(arr))"
   ]
  },
  {
   "cell_type": "code",
   "execution_count": null,
   "metadata": {},
   "outputs": [],
   "source": []
  }
 ],
 "metadata": {
  "kernelspec": {
   "display_name": "Python 3",
   "language": "python",
   "name": "python3"
  },
  "language_info": {
   "codemirror_mode": {
    "name": "ipython",
    "version": 3
   },
   "file_extension": ".py",
   "mimetype": "text/x-python",
   "name": "python",
   "nbconvert_exporter": "python",
   "pygments_lexer": "ipython3",
   "version": "3.7.5"
  }
 },
 "nbformat": 4,
 "nbformat_minor": 2
}
