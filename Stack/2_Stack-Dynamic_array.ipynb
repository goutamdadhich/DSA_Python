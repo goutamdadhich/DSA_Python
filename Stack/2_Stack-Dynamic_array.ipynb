{
 "cells": [
  {
   "cell_type": "markdown",
   "metadata": {},
   "source": [
    "Stack ADT using growable strategy"
   ]
  },
  {
   "cell_type": "code",
   "execution_count": 1,
   "metadata": {},
   "outputs": [],
   "source": [
    "class Stack:\n",
    "    def __init__(self, limit=10):\n",
    "        self.stk = limit*[]\n",
    "        self.limit = limit\n",
    "        \n",
    "    def isEmpty(self):\n",
    "        return len(self.stk) <= 0\n",
    "    \n",
    "    def pop(self):\n",
    "        if len(self.stk) <= 0:\n",
    "            print('Stack  is underflow.')\n",
    "            return None\n",
    "        else :\n",
    "            return self.stk.pop()\n",
    "        \n",
    "    def size(self):\n",
    "        return len(self.stk)\n",
    "    \n",
    "    def peek(self):\n",
    "        if len(self.stk) <= 0:\n",
    "            print('Stack  is underflow.')\n",
    "            return None\n",
    "        return self.stk[-1]\n",
    "    \n",
    "    def push(self, item):\n",
    "        if len(self.stk) >= self.limit:\n",
    "            self.resize()\n",
    "            \n",
    "        self.stk.append(item)\n",
    "        print('Stack after push :-', self.stk)\n",
    "        \n",
    "        \n",
    "    def resize(self):\n",
    "        newStk = list(self.stk)\n",
    "        self.limit = 2*self.limit\n",
    "        self.stk = newStk"
   ]
  },
  {
   "cell_type": "code",
   "execution_count": 3,
   "metadata": {},
   "outputs": [],
   "source": [
    "ourStack = Stack(limit = 5)"
   ]
  },
  {
   "cell_type": "code",
   "execution_count": 4,
   "metadata": {},
   "outputs": [
    {
     "name": "stdout",
     "output_type": "stream",
     "text": [
      "Stack after push :- [1]\n"
     ]
    }
   ],
   "source": [
    "ourStack.push(1)"
   ]
  },
  {
   "cell_type": "code",
   "execution_count": 5,
   "metadata": {},
   "outputs": [
    {
     "name": "stdout",
     "output_type": "stream",
     "text": [
      "Stack after push :- [1, 21]\n"
     ]
    }
   ],
   "source": [
    "ourStack.push(21)"
   ]
  },
  {
   "cell_type": "code",
   "execution_count": 6,
   "metadata": {},
   "outputs": [
    {
     "name": "stdout",
     "output_type": "stream",
     "text": [
      "Stack after push :- [1, 21, 14]\n"
     ]
    }
   ],
   "source": [
    "ourStack.push(14)"
   ]
  },
  {
   "cell_type": "code",
   "execution_count": 7,
   "metadata": {},
   "outputs": [
    {
     "name": "stdout",
     "output_type": "stream",
     "text": [
      "Stack after push :- [1, 21, 14, 11]\n"
     ]
    }
   ],
   "source": [
    "ourStack.push(11)"
   ]
  },
  {
   "cell_type": "code",
   "execution_count": 8,
   "metadata": {},
   "outputs": [
    {
     "name": "stdout",
     "output_type": "stream",
     "text": [
      "Stack after push :- [1, 21, 14, 11, 31]\n"
     ]
    }
   ],
   "source": [
    "ourStack.push(31)"
   ]
  },
  {
   "cell_type": "code",
   "execution_count": 9,
   "metadata": {},
   "outputs": [
    {
     "name": "stdout",
     "output_type": "stream",
     "text": [
      "Stack after push :- [1, 21, 14, 11, 31, 14]\n"
     ]
    }
   ],
   "source": [
    "ourStack.push(14)"
   ]
  },
  {
   "cell_type": "code",
   "execution_count": 10,
   "metadata": {},
   "outputs": [
    {
     "name": "stdout",
     "output_type": "stream",
     "text": [
      "Stack after push :- [1, 21, 14, 11, 31, 14, 15]\n"
     ]
    }
   ],
   "source": [
    "ourStack.push(15)"
   ]
  },
  {
   "cell_type": "code",
   "execution_count": 11,
   "metadata": {},
   "outputs": [
    {
     "name": "stdout",
     "output_type": "stream",
     "text": [
      "Stack after push :- [1, 21, 14, 11, 31, 14, 15, 19]\n"
     ]
    }
   ],
   "source": [
    "ourStack.push(19)"
   ]
  },
  {
   "cell_type": "code",
   "execution_count": 12,
   "metadata": {},
   "outputs": [
    {
     "data": {
      "text/plain": [
       "19"
      ]
     },
     "execution_count": 12,
     "metadata": {},
     "output_type": "execute_result"
    }
   ],
   "source": [
    "ourStack.peek()"
   ]
  },
  {
   "cell_type": "code",
   "execution_count": 13,
   "metadata": {},
   "outputs": [
    {
     "data": {
      "text/plain": [
       "19"
      ]
     },
     "execution_count": 13,
     "metadata": {},
     "output_type": "execute_result"
    }
   ],
   "source": [
    "ourStack.pop()"
   ]
  },
  {
   "cell_type": "code",
   "execution_count": 14,
   "metadata": {},
   "outputs": [
    {
     "data": {
      "text/plain": [
       "15"
      ]
     },
     "execution_count": 14,
     "metadata": {},
     "output_type": "execute_result"
    }
   ],
   "source": [
    "ourStack.peek()"
   ]
  },
  {
   "cell_type": "code",
   "execution_count": null,
   "metadata": {},
   "outputs": [],
   "source": []
  }
 ],
 "metadata": {
  "kernelspec": {
   "display_name": "Python 3",
   "language": "python",
   "name": "python3"
  },
  "language_info": {
   "codemirror_mode": {
    "name": "ipython",
    "version": 3
   },
   "file_extension": ".py",
   "mimetype": "text/x-python",
   "name": "python",
   "nbconvert_exporter": "python",
   "pygments_lexer": "ipython3",
   "version": "3.7.5"
  }
 },
 "nbformat": 4,
 "nbformat_minor": 2
}
