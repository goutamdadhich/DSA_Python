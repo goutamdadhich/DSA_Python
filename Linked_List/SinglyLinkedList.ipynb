{
 "cells": [
  {
   "cell_type": "markdown",
   "metadata": {},
   "source": [
    "# Singly linked List"
   ]
  },
  {
   "cell_type": "markdown",
   "metadata": {},
   "source": [
    "Creating Node"
   ]
  },
  {
   "cell_type": "code",
   "execution_count": 1,
   "metadata": {},
   "outputs": [],
   "source": [
    "''' -------------------------------\n",
    "            \n",
    "      Creating Node Object\n",
    "      \n",
    "    ------------------------------- '''\n",
    "class Node:\n",
    "    # constructor \n",
    "    def __init__(self, data):\n",
    "        self.data = data\n",
    "        self.next = None\n",
    "    # Setting data\n",
    "    def setData(self, data):\n",
    "        self.data = data\n",
    "    # Gettong data\n",
    "    def getData(self):\n",
    "        return self.data\n",
    "    # setting next\n",
    "    def setNext(self, next):\n",
    "        self.next = next\n",
    "    # getting next\n",
    "    def getNext(self):\n",
    "        return self.next\n",
    "    # returb true if the node points to next node\n",
    "    def hasNext(self):\n",
    "        return self.next != None"
   ]
  },
  {
   "cell_type": "markdown",
   "metadata": {},
   "source": [
    "Creating Linked List object"
   ]
  },
  {
   "cell_type": "code",
   "execution_count": 2,
   "metadata": {},
   "outputs": [],
   "source": [
    "''' -------------------------------\n",
    "            \n",
    "      Creating Linked List Object\n",
    "      \n",
    "    ------------------------------- '''\n",
    "class LinkedList():\n",
    "    # Constructor\n",
    "    def __init__(self):\n",
    "        self.head = None\n",
    "        \n",
    "    ''' -------------- Traversing Linked List -------------- '''\n",
    "        \n",
    "    # printing list elements\n",
    "    def printList(self):\n",
    "        ll = []\n",
    "        current = self.head\n",
    "        while current :\n",
    "            ll.append(current.data)\n",
    "            current = current.next\n",
    "        print(ll)\n",
    "        \n",
    "    # finding length of linked list\n",
    "    def listLength(self):\n",
    "        count = 0 \n",
    "        current = self.head\n",
    "        while current :\n",
    "            count += 1\n",
    "            current = current.next\n",
    "        return count\n",
    "    \n",
    "    \n",
    "    ''' -------------- Insertions in Linked List -------------- '''\n",
    "    \n",
    "    # insert at beginning \n",
    "    def insertAtBegining(self, data):\n",
    "        newNode = Node(data)\n",
    "        \n",
    "        newNode.next = self.head\n",
    "        self.head = newNode      \n",
    "        \n",
    "    # insert at end\n",
    "    def insertAtEnd(self, data):\n",
    "        newNode = Node(data)\n",
    "        current = self.head\n",
    "        while current.next :\n",
    "            current = current.next\n",
    "        current.next = newNode\n",
    "        \n",
    "    # insert after specific data point\n",
    "    def insertAtPosition(self, pos, data):\n",
    "        if pos == 0 or pos == 1:\n",
    "            self.insertAtBegining(data)\n",
    "        else :\n",
    "            newNode = Node(data)\n",
    "            current = self.head\n",
    "            count = 1\n",
    "            while count < pos-1:\n",
    "                count += 1\n",
    "                current = current.next\n",
    "            newNode.next = current.next\n",
    "            current.next = newNode\n",
    "            \n",
    "    ''' -------------- Deletions in Linked List -------------- '''\n",
    "    \n",
    "    #deleting first node\n",
    "    def deleteFirstNode(self):\n",
    "        if self.listLength() == 0:\n",
    "            print('The list is empty !!!')\n",
    "        else :\n",
    "            temp = self.head\n",
    "            self.head = self.head.next\n",
    "            temp.next = None\n",
    "            # Also directly can be written without using temp as follows :\n",
    "            # self.head = self.head.next\n",
    "            # But \n",
    "            # In this condition the previous link is not removed\n",
    "            \n",
    "    # deleting last node\n",
    "    def deleteLastNode(self):\n",
    "        if self.listLength() == 0:\n",
    "            print('The list is empty !!!')\n",
    "        else :\n",
    "            current = self.head\n",
    "            previous = self.head\n",
    "            while current.next :\n",
    "                previous = current\n",
    "                current = current.next\n",
    "            previous.next = None\n",
    "            \n",
    "    # deleting intermediate node at particular position \n",
    "    def deleteAtPosition(self, pos):\n",
    "        if pos<0 or pos>self.listLength():\n",
    "            print('Position does not exists !!!')\n",
    "        else :\n",
    "            count = 0\n",
    "            current = self.head\n",
    "            previous = self.head\n",
    "            while current.next or count<pos :\n",
    "                count += 1\n",
    "                if count == pos :\n",
    "                    previous.next = current.next\n",
    "                    current.next = None\n",
    "                    return\n",
    "                else :\n",
    "                    previous = current\n",
    "                    current = current.next\n",
    "                    \n",
    "    # deleting element by specific value\n",
    "    def deleteByElement(self, value):\n",
    "        current = self.head\n",
    "        previous = self.head\n",
    "        while current.next or current.data != value:\n",
    "            if current.data == value :\n",
    "                previous.next = current.next\n",
    "                current.next = None\n",
    "            else :\n",
    "                previous = current\n",
    "                current = current.next\n",
    "                \n",
    "    # Deleting singly linked list\n",
    "    def clear(self):\n",
    "        self.head = None\n",
    "        \n",
    "    ''' -------------- Print Linked List in reverse order -------------- '''\n",
    "    \n",
    "    def printInReverseOrder(self, head):\n",
    "        current = head\n",
    "        if current == None:\n",
    "            return\n",
    "        else:\n",
    "            self.printInReverseOrder(current.next)\n",
    "            print(current.data)\n",
    "            \n",
    "    ''' -------------- Reverse the Linked List -------------- '''\n",
    "    \n",
    "    def reverseList(self):\n",
    "        current = self.head\n",
    "        previous = None\n",
    "        while current :\n",
    "            nextNode = current.next\n",
    "            current.next = previous\n",
    "            previous = current\n",
    "            current = nextNode\n",
    "        self.head = previous\n",
    "        "
   ]
  },
  {
   "cell_type": "markdown",
   "metadata": {},
   "source": [
    "Implementation of above code"
   ]
  },
  {
   "cell_type": "code",
   "execution_count": 3,
   "metadata": {},
   "outputs": [],
   "source": [
    "n1 = Node(10)\n",
    "n2 = Node(20)\n",
    "n3 = Node(30)"
   ]
  },
  {
   "cell_type": "code",
   "execution_count": 4,
   "metadata": {},
   "outputs": [
    {
     "name": "stdout",
     "output_type": "stream",
     "text": [
      "[10, 20, 30]\n",
      "3\n"
     ]
    }
   ],
   "source": [
    "l1 = LinkedList()\n",
    "l1.head = n1\n",
    "n1.setNext(n2)\n",
    "n2.setNext(n3)\n",
    "l1.printList()\n",
    "print(l1.listLength())"
   ]
  },
  {
   "cell_type": "code",
   "execution_count": 5,
   "metadata": {},
   "outputs": [
    {
     "name": "stdout",
     "output_type": "stream",
     "text": [
      "[0, 10, 20, 30]\n"
     ]
    }
   ],
   "source": [
    "l1.insertAtBegining(0)\n",
    "l1.printList()"
   ]
  },
  {
   "cell_type": "code",
   "execution_count": 6,
   "metadata": {},
   "outputs": [
    {
     "name": "stdout",
     "output_type": "stream",
     "text": [
      "[0, 10, 20, 30, 50]\n"
     ]
    }
   ],
   "source": [
    "l1.insertAtEnd(50)\n",
    "l1.printList()"
   ]
  },
  {
   "cell_type": "code",
   "execution_count": 7,
   "metadata": {},
   "outputs": [
    {
     "name": "stdout",
     "output_type": "stream",
     "text": [
      "[0, 10, 20, 30, 40, 50]\n"
     ]
    }
   ],
   "source": [
    "l1.insertAtPosition(5, 40)\n",
    "l1.printList()"
   ]
  },
  {
   "cell_type": "code",
   "execution_count": 8,
   "metadata": {},
   "outputs": [
    {
     "name": "stdout",
     "output_type": "stream",
     "text": [
      "50\n",
      "40\n",
      "30\n",
      "20\n",
      "10\n",
      "0\n"
     ]
    }
   ],
   "source": [
    "l1.printInReverseOrder(l1.head)"
   ]
  },
  {
   "cell_type": "code",
   "execution_count": 9,
   "metadata": {},
   "outputs": [
    {
     "name": "stdout",
     "output_type": "stream",
     "text": [
      "[10, 20, 30, 40, 50]\n"
     ]
    }
   ],
   "source": [
    "l1.deleteFirstNode()\n",
    "l1.printList()"
   ]
  },
  {
   "cell_type": "code",
   "execution_count": 10,
   "metadata": {},
   "outputs": [
    {
     "name": "stdout",
     "output_type": "stream",
     "text": [
      "[10, 20, 30, 40]\n"
     ]
    }
   ],
   "source": [
    "l1.deleteLastNode()\n",
    "l1.printList()"
   ]
  },
  {
   "cell_type": "code",
   "execution_count": 11,
   "metadata": {},
   "outputs": [
    {
     "name": "stdout",
     "output_type": "stream",
     "text": [
      "[10, 30, 40]\n"
     ]
    }
   ],
   "source": [
    "l1.deleteAtPosition(2)\n",
    "l1.printList()"
   ]
  },
  {
   "cell_type": "code",
   "execution_count": 12,
   "metadata": {},
   "outputs": [
    {
     "name": "stdout",
     "output_type": "stream",
     "text": [
      "[10, 40]\n"
     ]
    }
   ],
   "source": [
    "l1.deleteByElement(30)\n",
    "l1.printList()"
   ]
  },
  {
   "cell_type": "code",
   "execution_count": 13,
   "metadata": {},
   "outputs": [
    {
     "name": "stdout",
     "output_type": "stream",
     "text": [
      "[40, 10]\n"
     ]
    }
   ],
   "source": [
    "l1.reverseList()\n",
    "l1.printList()"
   ]
  },
  {
   "cell_type": "code",
   "execution_count": 15,
   "metadata": {},
   "outputs": [
    {
     "name": "stdout",
     "output_type": "stream",
     "text": [
      "[40]\n"
     ]
    }
   ],
   "source": [
    "l1.deleteByElement(40)\n",
    "l1.printList()"
   ]
  },
  {
   "cell_type": "code",
   "execution_count": null,
   "metadata": {},
   "outputs": [],
   "source": []
  }
 ],
 "metadata": {
  "kernelspec": {
   "display_name": "Python 3",
   "language": "python",
   "name": "python3"
  },
  "language_info": {
   "codemirror_mode": {
    "name": "ipython",
    "version": 3
   },
   "file_extension": ".py",
   "mimetype": "text/x-python",
   "name": "python",
   "nbconvert_exporter": "python",
   "pygments_lexer": "ipython3",
   "version": "3.7.5"
  }
 },
 "nbformat": 4,
 "nbformat_minor": 2
}
