{
 "cells": [
  {
   "cell_type": "markdown",
   "metadata": {},
   "source": [
    "## Double Ended Queue\n",
    "\n",
    "Using Doubly Linkd List"
   ]
  },
  {
   "cell_type": "code",
   "execution_count": 1,
   "metadata": {},
   "outputs": [],
   "source": [
    "class Node:\n",
    "    def __init__(self, data):\n",
    "        self.prev = None\n",
    "        self.data = data\n",
    "        self.next = None"
   ]
  },
  {
   "cell_type": "code",
   "execution_count": 2,
   "metadata": {},
   "outputs": [],
   "source": [
    "class DLL:\n",
    "    def __init__(self):\n",
    "        self.head = None\n",
    "        self.tail = None\n",
    "        \n",
    "    def size(self):\n",
    "        count = 0\n",
    "        current = self.head\n",
    "        while current:\n",
    "            count += 1\n",
    "            current = current.next\n",
    "            \n",
    "        return count\n",
    "    \n",
    "    def isEmpty(self):\n",
    "        return (self.size()<= 0)\n",
    "    \n",
    "    def printList(self):\n",
    "        current = self.head\n",
    "        l = []\n",
    "        while current:\n",
    "            l.append(current.data)\n",
    "            current = current.next\n",
    "        print(l)\n",
    "    \n",
    "    def insertAtBeg(self, elem):\n",
    "        newNode = Node(elem)\n",
    "        if self.head == None:\n",
    "            self.head = self.tail = newNode\n",
    "        else:\n",
    "            newNode.next = self.head\n",
    "            self.head.prev = newNode\n",
    "            self.head = newNode\n",
    "\n",
    "    def insertAtEnd(self, elem):\n",
    "        newNode = Node(elem)\n",
    "        if self.tail == None:\n",
    "            self.head = self.tail = newNode\n",
    "        else:\n",
    "            newNode.prev = self.tail\n",
    "            self.tail.next = newNode\n",
    "            self.tail = newNode\n",
    "            \n",
    "    def deleteFirst(self):\n",
    "        if self.size() == 0:\n",
    "            print('The list is empty !!!')\n",
    "        else :\n",
    "            temp = self.head\n",
    "            self.head = self.head.next\n",
    "            self.head.prev = None\n",
    "            temp.next = None\n",
    "            \n",
    "    def deleteLastNode(self):\n",
    "        if self.size() == 0:\n",
    "            print('The list is empty !!!')\n",
    "        else :\n",
    "            temp = self.tail\n",
    "            self.tail = self.tail.prev\n",
    "            self.tail.next = None\n",
    "            temp.prev = None\n",
    "            \n",
    "    def first(self):\n",
    "        if self.size() == 0:\n",
    "            print('The list is empty !!!')\n",
    "            return None\n",
    "        else :\n",
    "            return self.head.data\n",
    "    \n",
    "    \n",
    "    def last(self):\n",
    "        if self.size() == 0:\n",
    "            print('The list is empty !!!')\n",
    "            return None\n",
    "        else :\n",
    "            return self.tail.data"
   ]
  },
  {
   "cell_type": "code",
   "execution_count": 3,
   "metadata": {},
   "outputs": [],
   "source": [
    "dll = DLL()"
   ]
  },
  {
   "cell_type": "code",
   "execution_count": 4,
   "metadata": {},
   "outputs": [
    {
     "data": {
      "text/plain": [
       "0"
      ]
     },
     "execution_count": 4,
     "metadata": {},
     "output_type": "execute_result"
    }
   ],
   "source": [
    "dll.size()"
   ]
  },
  {
   "cell_type": "code",
   "execution_count": 5,
   "metadata": {},
   "outputs": [
    {
     "data": {
      "text/plain": [
       "True"
      ]
     },
     "execution_count": 5,
     "metadata": {},
     "output_type": "execute_result"
    }
   ],
   "source": [
    "dll.isEmpty()"
   ]
  },
  {
   "cell_type": "code",
   "execution_count": 6,
   "metadata": {},
   "outputs": [
    {
     "name": "stdout",
     "output_type": "stream",
     "text": [
      "[]\n"
     ]
    }
   ],
   "source": [
    "dll.printList()"
   ]
  },
  {
   "cell_type": "code",
   "execution_count": 7,
   "metadata": {},
   "outputs": [],
   "source": [
    "dll.insertAtBeg(10)"
   ]
  },
  {
   "cell_type": "code",
   "execution_count": 8,
   "metadata": {},
   "outputs": [],
   "source": [
    "dll.insertAtBeg(5)"
   ]
  },
  {
   "cell_type": "code",
   "execution_count": 9,
   "metadata": {},
   "outputs": [],
   "source": [
    "dll.insertAtEnd(15)"
   ]
  },
  {
   "cell_type": "code",
   "execution_count": 10,
   "metadata": {},
   "outputs": [
    {
     "name": "stdout",
     "output_type": "stream",
     "text": [
      "[5, 10, 15]\n"
     ]
    }
   ],
   "source": [
    "dll.printList()"
   ]
  },
  {
   "cell_type": "code",
   "execution_count": 11,
   "metadata": {},
   "outputs": [],
   "source": [
    "dll.deleteFirst()"
   ]
  },
  {
   "cell_type": "code",
   "execution_count": 12,
   "metadata": {},
   "outputs": [
    {
     "name": "stdout",
     "output_type": "stream",
     "text": [
      "[10, 15]\n"
     ]
    }
   ],
   "source": [
    "dll.printList()"
   ]
  },
  {
   "cell_type": "code",
   "execution_count": 13,
   "metadata": {},
   "outputs": [],
   "source": [
    "dll.deleteLastNode()"
   ]
  },
  {
   "cell_type": "code",
   "execution_count": 14,
   "metadata": {
    "scrolled": true
   },
   "outputs": [
    {
     "name": "stdout",
     "output_type": "stream",
     "text": [
      "[10]\n"
     ]
    }
   ],
   "source": [
    "dll.printList()"
   ]
  },
  {
   "cell_type": "code",
   "execution_count": 15,
   "metadata": {},
   "outputs": [],
   "source": [
    "class DEQ:\n",
    "    def __init__(self):\n",
    "        self.dll = DLL()\n",
    "        \n",
    "    def insertFirst(self, elem):\n",
    "        self.dll.insertAtBeg(elem)\n",
    "        print('Queue after insertation:-')\n",
    "        self.dll.printList()\n",
    "    \n",
    "    def insertLast(self, elem):\n",
    "        self.dll.insertAtEnd(elem)\n",
    "        print('Queue after insertation:-')\n",
    "        self.dll.printList()\n",
    "    \n",
    "    def removeFirst(self):\n",
    "        self.dll.deleteFirst()\n",
    "    \n",
    "    def removeLast(self):\n",
    "        self.dll.deleteLastNode()\n",
    "    \n",
    "    def first(self):\n",
    "        return self.dll.first()\n",
    "    \n",
    "    def last(self):\n",
    "        return self.dll.last()"
   ]
  },
  {
   "cell_type": "code",
   "execution_count": 16,
   "metadata": {},
   "outputs": [],
   "source": [
    "deq = DEQ()"
   ]
  },
  {
   "cell_type": "code",
   "execution_count": 17,
   "metadata": {},
   "outputs": [
    {
     "name": "stdout",
     "output_type": "stream",
     "text": [
      "The list is empty !!!\n"
     ]
    }
   ],
   "source": [
    "deq.first()"
   ]
  },
  {
   "cell_type": "code",
   "execution_count": 18,
   "metadata": {},
   "outputs": [
    {
     "name": "stdout",
     "output_type": "stream",
     "text": [
      "Queue after insertation:-\n",
      "[10]\n"
     ]
    }
   ],
   "source": [
    "deq.insertFirst(10)"
   ]
  },
  {
   "cell_type": "code",
   "execution_count": 19,
   "metadata": {},
   "outputs": [
    {
     "name": "stdout",
     "output_type": "stream",
     "text": [
      "Queue after insertation:-\n",
      "[5, 10]\n"
     ]
    }
   ],
   "source": [
    "deq.insertFirst(5)"
   ]
  },
  {
   "cell_type": "code",
   "execution_count": 20,
   "metadata": {},
   "outputs": [
    {
     "name": "stdout",
     "output_type": "stream",
     "text": [
      "Queue after insertation:-\n",
      "[5, 10, 15]\n"
     ]
    }
   ],
   "source": [
    "deq.insertLast(15)"
   ]
  },
  {
   "cell_type": "code",
   "execution_count": 21,
   "metadata": {},
   "outputs": [
    {
     "data": {
      "text/plain": [
       "5"
      ]
     },
     "execution_count": 21,
     "metadata": {},
     "output_type": "execute_result"
    }
   ],
   "source": [
    "deq.first()"
   ]
  },
  {
   "cell_type": "code",
   "execution_count": 22,
   "metadata": {},
   "outputs": [
    {
     "data": {
      "text/plain": [
       "15"
      ]
     },
     "execution_count": 22,
     "metadata": {},
     "output_type": "execute_result"
    }
   ],
   "source": [
    "deq.last()"
   ]
  },
  {
   "cell_type": "code",
   "execution_count": 23,
   "metadata": {},
   "outputs": [],
   "source": [
    "deq.removeFirst()"
   ]
  },
  {
   "cell_type": "code",
   "execution_count": 24,
   "metadata": {},
   "outputs": [],
   "source": [
    "deq.removeLast()"
   ]
  },
  {
   "cell_type": "code",
   "execution_count": 25,
   "metadata": {},
   "outputs": [
    {
     "name": "stdout",
     "output_type": "stream",
     "text": [
      "Queue after insertation:-\n",
      "[10, 20]\n"
     ]
    }
   ],
   "source": [
    "deq.insertLast(20)"
   ]
  },
  {
   "cell_type": "code",
   "execution_count": null,
   "metadata": {},
   "outputs": [],
   "source": []
  }
 ],
 "metadata": {
  "kernelspec": {
   "display_name": "Python 3",
   "language": "python",
   "name": "python3"
  },
  "language_info": {
   "codemirror_mode": {
    "name": "ipython",
    "version": 3
   },
   "file_extension": ".py",
   "mimetype": "text/x-python",
   "name": "python",
   "nbconvert_exporter": "python",
   "pygments_lexer": "ipython3",
   "version": "3.7.5"
  }
 },
 "nbformat": 4,
 "nbformat_minor": 2
}
