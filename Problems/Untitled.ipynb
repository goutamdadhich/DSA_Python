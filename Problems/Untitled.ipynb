{
 "cells": [
  {
   "cell_type": "markdown",
   "metadata": {},
   "source": [
    "`\n",
    "n, k   -> n x n matrix, next k lines poins read and place 1 there.\n",
    "x1, y1\n",
    "x2, y2\n",
    "|   |\n",
    "xk, yk\n",
    "`"
   ]
  },
  {
   "cell_type": "code",
   "execution_count": 1,
   "metadata": {},
   "outputs": [],
   "source": [
    "def solution():\n",
    "    n, k  = map(int, input('Enter value of n :- ').split(','))\n",
    "    if k > n**2:\n",
    "        print('Entered k value is wrong')\n",
    "        return \n",
    "           \n",
    "    arr  = [[0]*n for i in range(n)]\n",
    "    print('Before insertation :- ')\n",
    "    for i in arr:\n",
    "        print(i)\n",
    "        \n",
    "    for i in range(k):\n",
    "        x, y = map(int, input('Enter X and y coordinate :- ').split(','))\n",
    "        if x>=1  and x<=n and y>=1 and y<=n:\n",
    "            arr[x-1][y-1] = 1\n",
    "        else:\n",
    "            print('Entered Coordinats are wrong  !')\n",
    "    for i in arr:\n",
    "        print(i)"
   ]
  },
  {
   "cell_type": "code",
   "execution_count": 2,
   "metadata": {},
   "outputs": [
    {
     "name": "stdout",
     "output_type": "stream",
     "text": [
      "Enter value of n :- 5,4\n",
      "Before insertation :- \n",
      "[0, 0, 0, 0, 0]\n",
      "[0, 0, 0, 0, 0]\n",
      "[0, 0, 0, 0, 0]\n",
      "[0, 0, 0, 0, 0]\n",
      "[0, 0, 0, 0, 0]\n",
      "Enter X and y coordinate :- 1,6\n",
      "Entered Coordinats are wrong  !\n",
      "Enter X and y coordinate :- 2,3\n",
      "Enter X and y coordinate :- 2,8\n",
      "Entered Coordinats are wrong  !\n",
      "Enter X and y coordinate :- 4,5\n",
      "[0, 0, 0, 0, 0]\n",
      "[0, 0, 1, 0, 0]\n",
      "[0, 0, 0, 0, 0]\n",
      "[0, 0, 0, 0, 1]\n",
      "[0, 0, 0, 0, 0]\n"
     ]
    }
   ],
   "source": [
    "solution()"
   ]
  },
  {
   "cell_type": "markdown",
   "metadata": {},
   "source": [
    "n = no of rows and cols\n",
    "\n",
    "total num of elems =  n*n == n**2\n",
    "\n",
    "k <= n**2\n",
    "\n",
    "1<= x <= n\n",
    "1<= y <= n"
   ]
  },
  {
   "cell_type": "code",
   "execution_count": 3,
   "metadata": {},
   "outputs": [],
   "source": [
    "def solution1():\n",
    "    n, k  = map(int, input('Enter value of n :- ').split(','))\n",
    "    if k > n**2:\n",
    "        print('Entered k value is wrong')\n",
    "        return \n",
    "           \n",
    "    arr  = [[0]*n for i in range(n)]\n",
    "    print('Before insertation :- ')\n",
    "    for i in arr:\n",
    "        print(i)\n",
    "    try: \n",
    "        for i in range(k):\n",
    "            x, y = map(int, input('Enter X and y coordinate :- ').split(','))\n",
    "            arr[x-1][y-1] = 1\n",
    "    except :\n",
    "        print('Entered coordinates are wrong  !!')\n",
    "    for i in arr:\n",
    "        print(i)"
   ]
  },
  {
   "cell_type": "code",
   "execution_count": 4,
   "metadata": {},
   "outputs": [
    {
     "name": "stdout",
     "output_type": "stream",
     "text": [
      "Enter value of n :- 5,4\n",
      "Before insertation :- \n",
      "[0, 0, 0, 0, 0]\n",
      "[0, 0, 0, 0, 0]\n",
      "[0, 0, 0, 0, 0]\n",
      "[0, 0, 0, 0, 0]\n",
      "[0, 0, 0, 0, 0]\n",
      "Enter X and y coordinate :- 1,6\n",
      "Entered coordinates are wrong  !!\n",
      "[0, 0, 0, 0, 0]\n",
      "[0, 0, 0, 0, 0]\n",
      "[0, 0, 0, 0, 0]\n",
      "[0, 0, 0, 0, 0]\n",
      "[0, 0, 0, 0, 0]\n"
     ]
    }
   ],
   "source": [
    "solution1()"
   ]
  },
  {
   "cell_type": "code",
   "execution_count": null,
   "metadata": {},
   "outputs": [],
   "source": []
  }
 ],
 "metadata": {
  "kernelspec": {
   "display_name": "Python 3",
   "language": "python",
   "name": "python3"
  },
  "language_info": {
   "codemirror_mode": {
    "name": "ipython",
    "version": 3
   },
   "file_extension": ".py",
   "mimetype": "text/x-python",
   "name": "python",
   "nbconvert_exporter": "python",
   "pygments_lexer": "ipython3",
   "version": "3.7.5"
  }
 },
 "nbformat": 4,
 "nbformat_minor": 2
}
