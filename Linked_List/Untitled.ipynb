{
 "cells": [
  {
   "cell_type": "code",
   "execution_count": 1,
   "metadata": {},
   "outputs": [],
   "source": [
    "class node:\n",
    "    def __init__(self, data):\n",
    "        self.data = data\n",
    "        self.next = None"
   ]
  },
  {
   "cell_type": "code",
   "execution_count": 26,
   "metadata": {},
   "outputs": [],
   "source": [
    "class ll:\n",
    "    def  __init__(self):\n",
    "        self.head = None\n",
    "        \n",
    "    def insertAtBeg(self, elem):\n",
    "        newNode = node(elem)\n",
    "        newNode.next = self.head\n",
    "        self.head = newNode\n",
    "        \n",
    "    def printList(self):\n",
    "        current = self.head\n",
    "        l = []\n",
    "        while current:\n",
    "            l.append(current.data)\n",
    "            current = current.next\n",
    "        print(l)\n",
    "        \n",
    "    def deleteByValue(self, val):\n",
    "        current = self.head\n",
    "        previous = None\n",
    "        while current:\n",
    "            if previous == current:\n",
    "                self.head = self.head.next\n",
    "                previous.next = None\n",
    "            if current.data == val:\n",
    "                previous.next = current.next\n",
    "                break\n",
    "            else:\n",
    "                previous = current\n",
    "                current = current.next"
   ]
  },
  {
   "cell_type": "code",
   "execution_count": 27,
   "metadata": {},
   "outputs": [],
   "source": [
    "l1  = ll()"
   ]
  },
  {
   "cell_type": "code",
   "execution_count": 28,
   "metadata": {},
   "outputs": [
    {
     "name": "stdout",
     "output_type": "stream",
     "text": [
      "[10, 20, 30, 40, 50]\n"
     ]
    }
   ],
   "source": [
    "l1.insertAtBeg(50)\n",
    "l1.insertAtBeg(40)\n",
    "l1.insertAtBeg(30)\n",
    "l1.insertAtBeg(20)\n",
    "l1.insertAtBeg(10)\n",
    "l1.printList()"
   ]
  },
  {
   "cell_type": "code",
   "execution_count": 29,
   "metadata": {},
   "outputs": [
    {
     "name": "stdout",
     "output_type": "stream",
     "text": [
      "[20, 30, 40, 50]\n"
     ]
    }
   ],
   "source": [
    "l1.deleteByValue(10)\n",
    "l1.printList()"
   ]
  },
  {
   "cell_type": "code",
   "execution_count": null,
   "metadata": {},
   "outputs": [],
   "source": []
  }
 ],
 "metadata": {
  "kernelspec": {
   "display_name": "Python 3",
   "language": "python",
   "name": "python3"
  },
  "language_info": {
   "codemirror_mode": {
    "name": "ipython",
    "version": 3
   },
   "file_extension": ".py",
   "mimetype": "text/x-python",
   "name": "python",
   "nbconvert_exporter": "python",
   "pygments_lexer": "ipython3",
   "version": "3.7.5"
  }
 },
 "nbformat": 4,
 "nbformat_minor": 2
}
